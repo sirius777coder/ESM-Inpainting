{
 "cells": [
  {
   "cell_type": "code",
   "execution_count": 1,
   "metadata": {},
   "outputs": [
    {
     "name": "stderr",
     "output_type": "stream",
     "text": [
      "/opt/conda/envs/esmfold/lib/python3.9/site-packages/tqdm/auto.py:22: TqdmWarning: IProgress not found. Please update jupyter and ipywidgets. See https://ipywidgets.readthedocs.io/en/stable/user_install.html\n",
      "  from .autonotebook import tqdm as notebook_tqdm\n"
     ]
    },
    {
     "name": "stdout",
     "output_type": "stream",
     "text": [
      "1cc1.L {'U'} SQAATPAADGKVKISIDPLTRVEGHLKIEVEVKDGKVVDAKCSGGMFRGFEQILRGRDPRDSSQIVQRICGVCPTAHCTASVMAQDDAFGVKVTTNGRITRNLIFGANYLQSHILHFYHLAALDYVKGPDVSPFVPRYANADLLTDRIKDGAKADATNTYGLNQYLKALEIRRICHEMVAMFGGRMPHVQGMVVGGATEIPTADKVAEYAARFKEVQKFVIEEYLPLIYTLGSVYTDLFETGIGWKNVIAFGVFPEDDDYKTFLLKPGVYIDGKDEEFDSKLVKEYVGHSFFDHSAPGGLHYSVGETNPNPDKPGAYSFVKAPRYKDKPCEVGPLARMWVQNPELSPVGQKLLKELYGIEAKKFRDLGDKAFSIMGRHVLRAEETWLTAVAVEKWLKQVQPGAETYVKSEIPDAAEGTGFTEAPRGALLHYLKIKDKKIENYQIVSATLWNANPRDDMGQRGPIEEALIGVPVPDIKNPVNVGRLVRSYDPULGCAVH\n",
      "1gp1.A {'U'} AAALAAAAPRTVYAFSARPLAGGEPFNLSSLRGKVLLIENVASLUGTTVRDYTQMNDLQRRLGPRGLVVLGFPCNQFGHQENAKNEEILNCLKYVRPGGGFEPNFMLFEKCEVNGEKAHPLFAFLREVLPTPSDDATALMTDPKFITWSPVCRNDVSWNFEKFLVGPDGVPVRRYSRRFLTIDIEPDIETLLSQGASA\n",
      "1nth.A {'O'} MTFRKSFDCYDFYDRAKVGEKCTQDDWDLMKIPMKAMELKQKYGLDFKGEFIPTDKDMMEKLFKAGFEMLLECGIYCTDTHRIVKYTEDEIWDAINNVQKEFVLGTGRDAVNVRKRSVGDKAKPIVQGGPTGSPISEDVFMPVHMSYALEKEVDTIVNGVMTSVRGKSPIPKSPYEVLAAKTETRLIKNACAMAGRPGMGVOGPETSLSAQGNISADCTGGMTCTDSHEVSQLNELKIDLDAISVIAHYKGNSDIIMDEQMPIFGGYAGGIEETTIVDVATHINAVLMSSASWHLDGPVHIRWGSTNTRETLMIAGWACATISEFTDILSGNQYYPCAGPCTEMCLLEASAQSITDTASGREILSGVASAKGVVTDKTTGMEARMMGEVARATAGVEISEVNVILDKLVSLYEKNYASAPAGKTFQECYDVKTVTPTEEYMQVYDGARKKLEDLGLVF\n",
      "2atc.A {'B'} ANPLYQSHIISINDLSRDDLNLVLATAAKLKANPQPELLKHKVIASCFFEASTRTRLSFQTSMHRLGASVVGFSDSANTSLGKKGQTLANTISVISTYVDAIVMRHPQEGAARLATEFSGNVPVLNAGDGSNQHPTQTLLDLFTIQQTEGRLNNLHVAMVGDLKYGRTVHSLTQALAKFDGNRFYFIAPDALAMPEYILDMLDEKGIAWSLHSSIEEVMTRVQKERLDPSEYABVKAQFLVRANSLGGLHNAKMNAKVLHPLPRVDEIATDVDKTPHAWYFQQAGNGIFARQALLALVLNRDLVL\n",
      "2xsk.A {'U'} MGSSQITFNTTQQGDMYTIIPEVTLTQSULURVQILSLREGSSGQSQTKQEKTLSLPANQPIALTKLSLNISPDDRVKIVVTVSDGQSLHLSQQWPPSSEKSLEHHHHHH\n",
      "bad seq:5\n",
      "too long:0\n"
     ]
    }
   ],
   "source": [
    "import torch\n",
    "import torch.nn as nn\n",
    "import json,time\n",
    "import customize_data\n",
    "import utils\n",
    "\n",
    "data_file = \"data/chain_set.jsonl\"\n",
    "dataset = customize_data.StructureDataset(data_file)\n",
    "print(f\"bad seq:{dataset.discard['bad_chars']}\\ntoo long:{dataset.discard['too_long']}\")\n",
    "dataLoader = customize_data.StructureDataloader(dataset,64,num_workers=2)\n",
    "output = next(iter(dataLoader))"
   ]
  },
  {
   "cell_type": "code",
   "execution_count": 9,
   "metadata": {},
   "outputs": [
    {
     "data": {
      "text/plain": [
       "torch.Size([64, 481, 4, 3])"
      ]
     },
     "execution_count": 9,
     "metadata": {},
     "output_type": "execute_result"
    }
   ],
   "source": [
    "output[0].shape"
   ]
  },
  {
   "cell_type": "code",
   "execution_count": 10,
   "metadata": {},
   "outputs": [
    {
     "data": {
      "text/plain": [
       "torch.Size([64, 481])"
      ]
     },
     "execution_count": 10,
     "metadata": {},
     "output_type": "execute_result"
    }
   ],
   "source": [
    "output[1].shape"
   ]
  },
  {
   "cell_type": "code",
   "execution_count": null,
   "metadata": {},
   "outputs": [],
   "source": []
  }
 ],
 "metadata": {
  "kernelspec": {
   "display_name": "esmfold",
   "language": "python",
   "name": "python3"
  },
  "language_info": {
   "codemirror_mode": {
    "name": "ipython",
    "version": 3
   },
   "file_extension": ".py",
   "mimetype": "text/x-python",
   "name": "python",
   "nbconvert_exporter": "python",
   "pygments_lexer": "ipython3",
   "version": "3.9.15"
  },
  "orig_nbformat": 4,
  "vscode": {
   "interpreter": {
    "hash": "59ac7c7a591b3b1c7843a2ac3c1da3475c2ffdc4684f266052d1e649f1d10700"
   }
  }
 },
 "nbformat": 4,
 "nbformat_minor": 2
}
